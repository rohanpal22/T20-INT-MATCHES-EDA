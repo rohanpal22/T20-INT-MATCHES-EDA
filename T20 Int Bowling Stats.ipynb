{
 "cells": [
  {
   "cell_type": "code",
   "execution_count": 1,
   "id": "edf5dbdb",
   "metadata": {},
   "outputs": [],
   "source": [
    "import pandas as pd\n",
    "import seaborn as sns\n",
    "import matplotlib.pyplot as plt"
   ]
  },
  {
   "cell_type": "code",
   "execution_count": 2,
   "id": "cfa1cdc4",
   "metadata": {},
   "outputs": [
    {
     "data": {
      "text/html": [
       "<div>\n",
       "<style scoped>\n",
       "    .dataframe tbody tr th:only-of-type {\n",
       "        vertical-align: middle;\n",
       "    }\n",
       "\n",
       "    .dataframe tbody tr th {\n",
       "        vertical-align: top;\n",
       "    }\n",
       "\n",
       "    .dataframe thead th {\n",
       "        text-align: right;\n",
       "    }\n",
       "</style>\n",
       "<table border=\"1\" class=\"dataframe\">\n",
       "  <thead>\n",
       "    <tr style=\"text-align: right;\">\n",
       "      <th></th>\n",
       "      <th>Player</th>\n",
       "      <th>Span</th>\n",
       "      <th>Mat</th>\n",
       "      <th>Inns</th>\n",
       "      <th>Balls</th>\n",
       "      <th>Overs</th>\n",
       "      <th>Mdns</th>\n",
       "      <th>Runs</th>\n",
       "      <th>Wkts</th>\n",
       "      <th>BBI</th>\n",
       "      <th>Ave</th>\n",
       "      <th>Econ</th>\n",
       "      <th>SR</th>\n",
       "      <th>4</th>\n",
       "      <th>5</th>\n",
       "    </tr>\n",
       "  </thead>\n",
       "  <tbody>\n",
       "    <tr>\n",
       "      <th>0</th>\n",
       "      <td>TG Southee (NZ)</td>\n",
       "      <td>2008-2024</td>\n",
       "      <td>123</td>\n",
       "      <td>120</td>\n",
       "      <td>2681</td>\n",
       "      <td>446.5</td>\n",
       "      <td>6</td>\n",
       "      <td>3635</td>\n",
       "      <td>157</td>\n",
       "      <td>43221</td>\n",
       "      <td>23.15</td>\n",
       "      <td>8.13</td>\n",
       "      <td>17.07</td>\n",
       "      <td>2</td>\n",
       "      <td>2</td>\n",
       "    </tr>\n",
       "    <tr>\n",
       "      <th>1</th>\n",
       "      <td>Shakib Al Hasan (BAN)</td>\n",
       "      <td>2006-2023</td>\n",
       "      <td>117</td>\n",
       "      <td>115</td>\n",
       "      <td>2535</td>\n",
       "      <td>422.3</td>\n",
       "      <td>3</td>\n",
       "      <td>2869</td>\n",
       "      <td>140</td>\n",
       "      <td>43952</td>\n",
       "      <td>20.49</td>\n",
       "      <td>6.79</td>\n",
       "      <td>18.10</td>\n",
       "      <td>5</td>\n",
       "      <td>2</td>\n",
       "    </tr>\n",
       "    <tr>\n",
       "      <th>2</th>\n",
       "      <td>Rashid Khan (AFG/ICC)</td>\n",
       "      <td>2015-2024</td>\n",
       "      <td>85</td>\n",
       "      <td>85</td>\n",
       "      <td>1946</td>\n",
       "      <td>324.2</td>\n",
       "      <td>1</td>\n",
       "      <td>1970</td>\n",
       "      <td>138</td>\n",
       "      <td>45356</td>\n",
       "      <td>14.27</td>\n",
       "      <td>6.07</td>\n",
       "      <td>14.10</td>\n",
       "      <td>5</td>\n",
       "      <td>2</td>\n",
       "    </tr>\n",
       "    <tr>\n",
       "      <th>3</th>\n",
       "      <td>IS Sodhi (NZ)</td>\n",
       "      <td>2014-2024</td>\n",
       "      <td>111</td>\n",
       "      <td>107</td>\n",
       "      <td>2279</td>\n",
       "      <td>379.5</td>\n",
       "      <td>-</td>\n",
       "      <td>3048</td>\n",
       "      <td>132</td>\n",
       "      <td>46844</td>\n",
       "      <td>23.09</td>\n",
       "      <td>8.02</td>\n",
       "      <td>17.26</td>\n",
       "      <td>3</td>\n",
       "      <td>-</td>\n",
       "    </tr>\n",
       "    <tr>\n",
       "      <th>4</th>\n",
       "      <td>MJ Santner (NZ)</td>\n",
       "      <td>2015-2024</td>\n",
       "      <td>100</td>\n",
       "      <td>98</td>\n",
       "      <td>2072</td>\n",
       "      <td>345.2</td>\n",
       "      <td>2</td>\n",
       "      <td>2457</td>\n",
       "      <td>111</td>\n",
       "      <td>45600</td>\n",
       "      <td>22.13</td>\n",
       "      <td>7.11</td>\n",
       "      <td>18.66</td>\n",
       "      <td>3</td>\n",
       "      <td>-</td>\n",
       "    </tr>\n",
       "  </tbody>\n",
       "</table>\n",
       "</div>"
      ],
      "text/plain": [
       "                  Player       Span  Mat  Inns  Balls  Overs Mdns  Runs  Wkts  \\\n",
       "0        TG Southee (NZ)  2008-2024  123   120   2681  446.5    6  3635   157   \n",
       "1  Shakib Al Hasan (BAN)  2006-2023  117   115   2535  422.3    3  2869   140   \n",
       "2  Rashid Khan (AFG/ICC)  2015-2024   85    85   1946  324.2    1  1970   138   \n",
       "3          IS Sodhi (NZ)  2014-2024  111   107   2279  379.5    -  3048   132   \n",
       "4        MJ Santner (NZ)  2015-2024  100    98   2072  345.2    2  2457   111   \n",
       "\n",
       "     BBI    Ave  Econ     SR  4  5  \n",
       "0  43221  23.15  8.13  17.07  2  2  \n",
       "1  43952  20.49  6.79  18.10  5  2  \n",
       "2  45356  14.27  6.07  14.10  5  2  \n",
       "3  46844  23.09  8.02  17.26  3  -  \n",
       "4  45600  22.13  7.11  18.66  3  -  "
      ]
     },
     "execution_count": 2,
     "metadata": {},
     "output_type": "execute_result"
    }
   ],
   "source": [
    "bowling_stats = pd.read_csv(r\"C:\\Users\\Rohan\\OneDrive\\Desktop\\Rohan\\T20 Int Matches\\Bowling_Stats.csv\")\n",
    "bowling_stats.head()"
   ]
  },
  {
   "cell_type": "code",
   "execution_count": 3,
   "id": "47a67235",
   "metadata": {},
   "outputs": [
    {
     "name": "stdout",
     "output_type": "stream",
     "text": [
      "\n",
      "Summary Statistics of Bowling Stats Data:\n",
      "              Mat        Inns        Balls       Overs         Runs  \\\n",
      "count  100.000000  100.000000   100.000000  100.000000   100.000000   \n",
      "mean    65.370000   61.810000  1281.050000  213.341000  1522.000000   \n",
      "std     21.253475   18.241198   399.030273   66.487342   545.457013   \n",
      "min     34.000000   33.000000   740.000000  123.200000   622.000000   \n",
      "25%     52.750000   50.750000  1015.000000  169.100000  1183.000000   \n",
      "50%     58.500000   57.000000  1173.500000  195.350000  1413.000000   \n",
      "75%     77.000000   70.000000  1430.750000  238.275000  1732.250000   \n",
      "max    130.000000  120.000000  2681.000000  446.500000  3635.000000   \n",
      "\n",
      "             Wkts           BBI        Ave        Econ          SR  \n",
      "count  100.000000    100.000000  100.00000  100.000000  100.000000  \n",
      "mean    74.550000  42287.120000   20.36400    7.071600   17.191400  \n",
      "std     20.803251   8111.491021    4.21804    0.925316    2.463923  \n",
      "min     54.000000  11079.000000    8.88000    4.740000   10.640000  \n",
      "25%     60.000000  42856.000000   17.81000    6.525000   15.655000  \n",
      "50%     66.000000  45326.500000   21.05000    7.135000   17.455000  \n",
      "75%     85.000000  45539.000000   23.09250    7.682500   18.715000  \n",
      "max    157.000000  46844.000000   29.87000    9.270000   22.940000  \n"
     ]
    }
   ],
   "source": [
    "print(\"\\nSummary Statistics of Bowling Stats Data:\")\n",
    "print(bowling_stats.describe())"
   ]
  },
  {
   "cell_type": "code",
   "execution_count": 5,
   "id": "207a7928",
   "metadata": {},
   "outputs": [
    {
     "name": "stdout",
     "output_type": "stream",
     "text": [
      "\n",
      "Missing Values in Bowling Stats Data:\n",
      "Player    0\n",
      "Span      0\n",
      "Mat       0\n",
      "Inns      0\n",
      "Balls     0\n",
      "Overs     0\n",
      "Mdns      0\n",
      "Runs      0\n",
      "Wkts      0\n",
      "BBI       0\n",
      "Ave       0\n",
      "Econ      0\n",
      "SR        0\n",
      "4         0\n",
      "5         0\n",
      "dtype: int64\n"
     ]
    }
   ],
   "source": [
    "print(\"\\nMissing Values in Bowling Stats Data:\")\n",
    "print(bowling_stats.isnull().sum())"
   ]
  },
  {
   "cell_type": "markdown",
   "id": "7e7f78f3",
   "metadata": {},
   "source": [
    "**TOP 5 BOWLERS WITH BEST ECONOMY IN T20I MATCHES WITH MORE THAN 85 GAMES PLAYED**"
   ]
  },
  {
   "cell_type": "code",
   "execution_count": 13,
   "id": "78ea9d2a",
   "metadata": {},
   "outputs": [
    {
     "data": {
      "text/html": [
       "<div>\n",
       "<style scoped>\n",
       "    .dataframe tbody tr th:only-of-type {\n",
       "        vertical-align: middle;\n",
       "    }\n",
       "\n",
       "    .dataframe tbody tr th {\n",
       "        vertical-align: top;\n",
       "    }\n",
       "\n",
       "    .dataframe thead th {\n",
       "        text-align: right;\n",
       "    }\n",
       "</style>\n",
       "<table border=\"1\" class=\"dataframe\">\n",
       "  <thead>\n",
       "    <tr style=\"text-align: right;\">\n",
       "      <th></th>\n",
       "      <th>Player</th>\n",
       "      <th>Econ</th>\n",
       "    </tr>\n",
       "  </thead>\n",
       "  <tbody>\n",
       "    <tr>\n",
       "      <th>69</th>\n",
       "      <td>Mohammad Hafeez (PAK)</td>\n",
       "      <td>6.60</td>\n",
       "    </tr>\n",
       "    <tr>\n",
       "      <th>14</th>\n",
       "      <td>Shahid Afridi (ICC/PAK)</td>\n",
       "      <td>6.63</td>\n",
       "    </tr>\n",
       "    <tr>\n",
       "      <th>1</th>\n",
       "      <td>Shakib Al Hasan (BAN)</td>\n",
       "      <td>6.79</td>\n",
       "    </tr>\n",
       "    <tr>\n",
       "      <th>21</th>\n",
       "      <td>B Kumar (IND)</td>\n",
       "      <td>6.96</td>\n",
       "    </tr>\n",
       "    <tr>\n",
       "      <th>10</th>\n",
       "      <td>Shadab Khan (PAK)</td>\n",
       "      <td>7.07</td>\n",
       "    </tr>\n",
       "  </tbody>\n",
       "</table>\n",
       "</div>"
      ],
      "text/plain": [
       "                     Player  Econ\n",
       "69    Mohammad Hafeez (PAK)  6.60\n",
       "14  Shahid Afridi (ICC/PAK)  6.63\n",
       "1     Shakib Al Hasan (BAN)  6.79\n",
       "21            B Kumar (IND)  6.96\n",
       "10        Shadab Khan (PAK)  7.07"
      ]
     },
     "execution_count": 13,
     "metadata": {},
     "output_type": "execute_result"
    }
   ],
   "source": [
    "filtered_stats = bowling_stats[bowling_stats['Mat'] > 85]\n",
    "sorted_stats = filtered_stats.sort_values(by='Econ', ascending=True)\n",
    "top_5_bowlers = sorted_stats.head(5)\n",
    "top_5_bowlers[['Player', 'Econ']]"
   ]
  },
  {
   "cell_type": "markdown",
   "id": "0b1c623b",
   "metadata": {},
   "source": [
    "**SCATTER PLOT B/W WICKETS AND RUNS CONCEDED**"
   ]
  },
  {
   "cell_type": "code",
   "execution_count": 19,
   "id": "bc818d46",
   "metadata": {},
   "outputs": [
    {
     "data": {
      "image/png": "[encoded data removed]",
      "text/plain": [
       "<Figure size 640x480 with 1 Axes>"
      ]
     },
     "metadata": {},
     "output_type": "display_data"
    }
   ],
   "source": [
    "plt.scatter(bowling_stats['Wkts'], bowling_stats['Runs'], color='blue', alpha=0.5)\n",
    "plt.title('Wickets vs. Runs Conceded')\n",
    "plt.xlabel('Wickets')\n",
    "plt.ylabel('Runs Conceded')\n",
    "plt.grid(True)\n",
    "plt.show()"
   ]
  },
  {
   "cell_type": "markdown",
   "id": "7a154235",
   "metadata": {},
   "source": [
    "**SCATTER PLOT B/W BOWLING AVERAGE AND ECONOMY RATE**"
   ]
  },
  {
   "cell_type": "code",
   "execution_count": 20,
   "id": "e13a5b03",
   "metadata": {},
   "outputs": [
    {
     "data": {
      "image/png": "[encoded data removed]",
      "text/plain": [
       "<Figure size 640x480 with 1 Axes>"
      ]
     },
     "metadata": {},
     "output_type": "display_data"
    }
   ],
   "source": [
    "plt.scatter(bowling_stats['Ave'], bowling_stats['Econ'], color='green', alpha=0.5)\n",
    "plt.title('Bowling Average vs. Economy Rate')\n",
    "plt.xlabel('Bowling Average')\n",
    "plt.ylabel('Economy Rate')\n",
    "plt.grid(True)\n",
    "plt.show()"
   ]
  },
  {
   "cell_type": "markdown",
   "id": "912fae87",
   "metadata": {},
   "source": [
    "**TOP 5 BOWLERS OF EACH COUNTRY WITH HIGHEST WICKETS**"
   ]
  },
  {
   "cell_type": "code",
   "execution_count": 24,
   "id": "d67974ee",
   "metadata": {},
   "outputs": [
    {
     "data": {
      "text/html": [
       "<div>\n",
       "<style scoped>\n",
       "    .dataframe tbody tr th:only-of-type {\n",
       "        vertical-align: middle;\n",
       "    }\n",
       "\n",
       "    .dataframe tbody tr th {\n",
       "        vertical-align: top;\n",
       "    }\n",
       "\n",
       "    .dataframe thead th {\n",
       "        text-align: right;\n",
       "    }\n",
       "</style>\n",
       "<table border=\"1\" class=\"dataframe\">\n",
       "  <thead>\n",
       "    <tr style=\"text-align: right;\">\n",
       "      <th></th>\n",
       "      <th>Player</th>\n",
       "      <th>Wkts</th>\n",
       "      <th>Country</th>\n",
       "    </tr>\n",
       "  </thead>\n",
       "  <tbody>\n",
       "    <tr>\n",
       "      <th>0</th>\n",
       "      <td>Mohammad Nabi (AFG)</td>\n",
       "      <td>93</td>\n",
       "      <td>AFG</td>\n",
       "    </tr>\n",
       "    <tr>\n",
       "      <th>1</th>\n",
       "      <td>Mujeeb Ur Rahman (AFG)</td>\n",
       "      <td>58</td>\n",
       "      <td>AFG</td>\n",
       "    </tr>\n",
       "    <tr>\n",
       "      <th>2</th>\n",
       "      <td>Rashid Khan (AFG/ICC)</td>\n",
       "      <td>138</td>\n",
       "      <td>AFG/ICC</td>\n",
       "    </tr>\n",
       "    <tr>\n",
       "      <th>3</th>\n",
       "      <td>A Zampa (AUS)</td>\n",
       "      <td>92</td>\n",
       "      <td>AUS</td>\n",
       "    </tr>\n",
       "    <tr>\n",
       "      <th>4</th>\n",
       "      <td>MA Starc (AUS)</td>\n",
       "      <td>74</td>\n",
       "      <td>AUS</td>\n",
       "    </tr>\n",
       "    <tr>\n",
       "      <th>...</th>\n",
       "      <td>...</td>\n",
       "      <td>...</td>\n",
       "      <td>...</td>\n",
       "    </tr>\n",
       "    <tr>\n",
       "      <th>87</th>\n",
       "      <td>S Badree (WI/World)</td>\n",
       "      <td>56</td>\n",
       "      <td>WI/World</td>\n",
       "    </tr>\n",
       "    <tr>\n",
       "      <th>88</th>\n",
       "      <td>TL Chatara (ZIM)</td>\n",
       "      <td>62</td>\n",
       "      <td>ZIM</td>\n",
       "    </tr>\n",
       "    <tr>\n",
       "      <th>89</th>\n",
       "      <td>R Ngarava (ZIM)</td>\n",
       "      <td>59</td>\n",
       "      <td>ZIM</td>\n",
       "    </tr>\n",
       "    <tr>\n",
       "      <th>90</th>\n",
       "      <td>LM Jongwe (ZIM)</td>\n",
       "      <td>58</td>\n",
       "      <td>ZIM</td>\n",
       "    </tr>\n",
       "    <tr>\n",
       "      <th>91</th>\n",
       "      <td>Sikandar Raza (ZIM)</td>\n",
       "      <td>58</td>\n",
       "      <td>ZIM</td>\n",
       "    </tr>\n",
       "  </tbody>\n",
       "</table>\n",
       "<p>92 rows × 3 columns</p>\n",
       "</div>"
      ],
      "text/plain": [
       "                    Player  Wkts   Country\n",
       "0      Mohammad Nabi (AFG)    93       AFG\n",
       "1   Mujeeb Ur Rahman (AFG)    58       AFG\n",
       "2    Rashid Khan (AFG/ICC)   138   AFG/ICC\n",
       "3            A Zampa (AUS)    92       AUS\n",
       "4           MA Starc (AUS)    74       AUS\n",
       "..                     ...   ...       ...\n",
       "87     S Badree (WI/World)    56  WI/World\n",
       "88        TL Chatara (ZIM)    62       ZIM\n",
       "89         R Ngarava (ZIM)    59       ZIM\n",
       "90         LM Jongwe (ZIM)    58       ZIM\n",
       "91     Sikandar Raza (ZIM)    58       ZIM\n",
       "\n",
       "[92 rows x 3 columns]"
      ]
     },
     "execution_count": 24,
     "metadata": {},
     "output_type": "execute_result"
    }
   ],
   "source": [
    "# Extract country from the 'Player' column\n",
    "bowling_stats['Country'] = bowling_stats['Player'].str.extract(r'\\((.*?)\\)')\n",
    "\n",
    "# Grouping the data by country and sorting the runs within each group\n",
    "top_bowlers_by_country = bowling_stats.groupby('Country').apply(lambda x: x.nlargest(5, 'Wkts')).reset_index(drop=True)\n",
    "top_bowlers_by_country[['Player', 'Wkts', 'Country']]"
   ]
  },
  {
   "cell_type": "markdown",
   "id": "1652ff38",
   "metadata": {},
   "source": [
    "**TOP 5 INDIAN BOWLERS WITH MOST NUMBER OF WICKETS IN T20I MATCHES**"
   ]
  },
  {
   "cell_type": "code",
   "execution_count": 27,
   "id": "a7728bac",
   "metadata": {},
   "outputs": [
    {
     "data": {
      "text/html": [
       "<div>\n",
       "<style scoped>\n",
       "    .dataframe tbody tr th:only-of-type {\n",
       "        vertical-align: middle;\n",
       "    }\n",
       "\n",
       "    .dataframe tbody tr th {\n",
       "        vertical-align: top;\n",
       "    }\n",
       "\n",
       "    .dataframe thead th {\n",
       "        text-align: right;\n",
       "    }\n",
       "</style>\n",
       "<table border=\"1\" class=\"dataframe\">\n",
       "  <thead>\n",
       "    <tr style=\"text-align: right;\">\n",
       "      <th></th>\n",
       "      <th>Player</th>\n",
       "      <th>Mat</th>\n",
       "      <th>Wkts</th>\n",
       "      <th>Country</th>\n",
       "    </tr>\n",
       "  </thead>\n",
       "  <tbody>\n",
       "    <tr>\n",
       "      <th>15</th>\n",
       "      <td>YS Chahal (IND)</td>\n",
       "      <td>80</td>\n",
       "      <td>96</td>\n",
       "      <td>IND</td>\n",
       "    </tr>\n",
       "    <tr>\n",
       "      <th>21</th>\n",
       "      <td>B Kumar (IND)</td>\n",
       "      <td>87</td>\n",
       "      <td>90</td>\n",
       "      <td>IND</td>\n",
       "    </tr>\n",
       "    <tr>\n",
       "      <th>36</th>\n",
       "      <td>HH Pandya (IND)</td>\n",
       "      <td>92</td>\n",
       "      <td>73</td>\n",
       "      <td>IND</td>\n",
       "    </tr>\n",
       "    <tr>\n",
       "      <th>40</th>\n",
       "      <td>R Ashwin (IND)</td>\n",
       "      <td>65</td>\n",
       "      <td>72</td>\n",
       "      <td>IND</td>\n",
       "    </tr>\n",
       "    <tr>\n",
       "      <th>31</th>\n",
       "      <td>JJ Bumrah (IND)</td>\n",
       "      <td>62</td>\n",
       "      <td>74</td>\n",
       "      <td>IND</td>\n",
       "    </tr>\n",
       "  </tbody>\n",
       "</table>\n",
       "</div>"
      ],
      "text/plain": [
       "             Player  Mat  Wkts Country\n",
       "15  YS Chahal (IND)   80    96     IND\n",
       "21    B Kumar (IND)   87    90     IND\n",
       "36  HH Pandya (IND)   92    73     IND\n",
       "40   R Ashwin (IND)   65    72     IND\n",
       "31  JJ Bumrah (IND)   62    74     IND"
      ]
     },
     "execution_count": 27,
     "metadata": {},
     "output_type": "execute_result"
    }
   ],
   "source": [
    "# Filtering the DataFrame for rows where the country is \"IND\" (India)\n",
    "indian_bowler = bowling_stats[bowling_stats['Country'] == 'IND']\n",
    "\n",
    "# Sorting the wickets in descending order to find the top 5 bowlers for India\n",
    "top_5_indian_bowlers = indian_bowler.nlargest(5, 'Runs')\n",
    "top_5_indian_bowlers[['Player','Mat','Wkts', 'Country']]"
   ]
  },
  {
   "cell_type": "markdown",
   "id": "57528a1c",
   "metadata": {},
   "source": [
    "**TOP 5 COUNTRIES WITH MOST NUMBER OF WICKETS IN T20I**"
   ]
  },
  {
   "cell_type": "code",
   "execution_count": 34,
   "id": "ef79804c",
   "metadata": {},
   "outputs": [
    {
     "data": {
      "text/html": [
       "<div>\n",
       "<style scoped>\n",
       "    .dataframe tbody tr th:only-of-type {\n",
       "        vertical-align: middle;\n",
       "    }\n",
       "\n",
       "    .dataframe tbody tr th {\n",
       "        vertical-align: top;\n",
       "    }\n",
       "\n",
       "    .dataframe thead th {\n",
       "        text-align: right;\n",
       "    }\n",
       "</style>\n",
       "<table border=\"1\" class=\"dataframe\">\n",
       "  <thead>\n",
       "    <tr style=\"text-align: right;\">\n",
       "      <th></th>\n",
       "      <th>Country</th>\n",
       "      <th>Wkts</th>\n",
       "    </tr>\n",
       "  </thead>\n",
       "  <tbody>\n",
       "    <tr>\n",
       "      <th>24</th>\n",
       "      <td>PAK</td>\n",
       "      <td>682</td>\n",
       "    </tr>\n",
       "    <tr>\n",
       "      <th>22</th>\n",
       "      <td>NZ</td>\n",
       "      <td>647</td>\n",
       "    </tr>\n",
       "    <tr>\n",
       "      <th>11</th>\n",
       "      <td>IND</td>\n",
       "      <td>526</td>\n",
       "    </tr>\n",
       "    <tr>\n",
       "      <th>30</th>\n",
       "      <td>SL</td>\n",
       "      <td>398</td>\n",
       "    </tr>\n",
       "    <tr>\n",
       "      <th>12</th>\n",
       "      <td>IRE</td>\n",
       "      <td>391</td>\n",
       "    </tr>\n",
       "  </tbody>\n",
       "</table>\n",
       "</div>"
      ],
      "text/plain": [
       "   Country  Wkts\n",
       "24     PAK   682\n",
       "22      NZ   647\n",
       "11     IND   526\n",
       "30      SL   398\n",
       "12     IRE   391"
      ]
     },
     "execution_count": 34,
     "metadata": {},
     "output_type": "execute_result"
    }
   ],
   "source": [
    "wickets_by_country = bowling_stats.groupby('Country')['Wkts'].sum().reset_index()\n",
    "sorted_wickets = wickets_by_country.sort_values(by='Wkts', ascending=False)\n",
    "\n",
    "top_5_countries = sorted_wickets.head(5)\n",
    "for index, row in top_5_countries.iterrows():\n",
    "    country = row['Country']\n",
    "    total_wickets = row['Wkts']\n",
    "top_5_countries[['Country','Wkts']]"
   ]
  },
  {
   "cell_type": "markdown",
   "id": "c593f97c",
   "metadata": {},
   "source": [
    "**DISPLAYING CAREER SPAN OF THE BOWLER**"
   ]
  },
  {
   "cell_type": "code",
   "execution_count": 42,
   "id": "4939c34c",
   "metadata": {},
   "outputs": [
    {
     "name": "stdout",
     "output_type": "stream",
     "text": [
      "Enter the player's name: YS Chahal (IND)\n",
      "Player: YS Chahal (IND)\n",
      "Career Span: 2016-2023\n",
      "Matches Played: 80\n",
      "Total Wickets: 96\n",
      "Bowling Average: 25.09\n",
      "Economy: 8.19\n",
      "Maidens Bowled: 2\n"
     ]
    }
   ],
   "source": [
    "def display_bowling_career_stats(player_name):\n",
    "    # Check if the player exists in the dataset\n",
    "    if player_name in bowling_stats['Player'].values:\n",
    "        # Retrieve player's data\n",
    "        player_data = bowling_stats[bowling_stats['Player'] == player_name].iloc[0]\n",
    "\n",
    "        # Print career statistics\n",
    "        print(f\"Player: {player_data['Player']}\")\n",
    "        print(f\"Career Span: {player_data['Span']}\")\n",
    "        print(f\"Matches Played: {player_data['Mat']}\")\n",
    "        print(f\"Total Wickets: {player_data['Wkts']}\")\n",
    "        print(f\"Bowling Average: {player_data['Ave']}\")\n",
    "        print(f\"Economy: {player_data['Econ']}\")\n",
    "        print(f\"Maidens Bowled: {player_data['Mdns']}\")\n",
    "    else:\n",
    "        print(\"Player not found in the dataset\")\n",
    "\n",
    "# Take input from the user for player's name\n",
    "player_name = input(\"Enter the player's name: \")\n",
    "\n",
    "# Display career statistics for the selected player\n",
    "display_bowling_career_stats(player_name)"
   ]
  },
  {
   "cell_type": "code",
   "execution_count": null,
   "id": "b77e15d5",
   "metadata": {},
   "outputs": [],
   "source": []
  }
 ],
 "metadata": {
  "kernelspec": {
   "display_name": "Python 3 (ipykernel)",
   "language": "python",
   "name": "python3"
  },
  "language_info": {
   "codemirror_mode": {
    "name": "ipython",
    "version": 3
   },
   "file_extension": ".py",
   "mimetype": "text/x-python",
   "name": "python",
   "nbconvert_exporter": "python",
   "pygments_lexer": "ipython3",
   "version": "3.11.4"
  }
 },
 "nbformat": 4,
 "nbformat_minor": 5
}
