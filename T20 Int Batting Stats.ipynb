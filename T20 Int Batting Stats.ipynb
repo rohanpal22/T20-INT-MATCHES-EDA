{
 "cells": [
  {
   "cell_type": "code",
   "execution_count": 1,
   "id": "2d13892c",
   "metadata": {},
   "outputs": [],
   "source": [
    "import pandas as pd\n",
    "import seaborn as sns\n",
    "import matplotlib.pyplot as plt"
   ]
  },
  {
   "cell_type": "code",
   "execution_count": 2,
   "id": "1053cef0",
   "metadata": {},
   "outputs": [
    {
     "data": {
      "text/html": [
       "<div>\n",
       "<style scoped>\n",
       "    .dataframe tbody tr th:only-of-type {\n",
       "        vertical-align: middle;\n",
       "    }\n",
       "\n",
       "    .dataframe tbody tr th {\n",
       "        vertical-align: top;\n",
       "    }\n",
       "\n",
       "    .dataframe thead th {\n",
       "        text-align: right;\n",
       "    }\n",
       "</style>\n",
       "<table border=\"1\" class=\"dataframe\">\n",
       "  <thead>\n",
       "    <tr style=\"text-align: right;\">\n",
       "      <th></th>\n",
       "      <th>Player</th>\n",
       "      <th>Span</th>\n",
       "      <th>Mat</th>\n",
       "      <th>Inns</th>\n",
       "      <th>NO</th>\n",
       "      <th>Runs</th>\n",
       "      <th>HS</th>\n",
       "      <th>Ave</th>\n",
       "      <th>BF</th>\n",
       "      <th>SR</th>\n",
       "      <th>100</th>\n",
       "      <th>50</th>\n",
       "      <th>0</th>\n",
       "      <th>4s</th>\n",
       "      <th>6s</th>\n",
       "      <th>Runs in Boundary</th>\n",
       "      <th>% Runs in Boundary</th>\n",
       "    </tr>\n",
       "  </thead>\n",
       "  <tbody>\n",
       "    <tr>\n",
       "      <th>0</th>\n",
       "      <td>V Kohli (IND)</td>\n",
       "      <td>2010-2024</td>\n",
       "      <td>117</td>\n",
       "      <td>109</td>\n",
       "      <td>31</td>\n",
       "      <td>4037</td>\n",
       "      <td>122*</td>\n",
       "      <td>51.75</td>\n",
       "      <td>2922</td>\n",
       "      <td>138.15</td>\n",
       "      <td>1</td>\n",
       "      <td>37</td>\n",
       "      <td>5</td>\n",
       "      <td>361</td>\n",
       "      <td>117</td>\n",
       "      <td>2146</td>\n",
       "      <td>53.158286</td>\n",
       "    </tr>\n",
       "    <tr>\n",
       "      <th>1</th>\n",
       "      <td>RG Sharma (IND)</td>\n",
       "      <td>2007-2024</td>\n",
       "      <td>151</td>\n",
       "      <td>143</td>\n",
       "      <td>18</td>\n",
       "      <td>3974</td>\n",
       "      <td>121*</td>\n",
       "      <td>31.79</td>\n",
       "      <td>2839</td>\n",
       "      <td>139.97</td>\n",
       "      <td>5</td>\n",
       "      <td>29</td>\n",
       "      <td>12</td>\n",
       "      <td>359</td>\n",
       "      <td>190</td>\n",
       "      <td>2576</td>\n",
       "      <td>64.821339</td>\n",
       "    </tr>\n",
       "    <tr>\n",
       "      <th>2</th>\n",
       "      <td>Babar Azam (PAK)</td>\n",
       "      <td>2016-2024</td>\n",
       "      <td>109</td>\n",
       "      <td>103</td>\n",
       "      <td>14</td>\n",
       "      <td>3698</td>\n",
       "      <td>122</td>\n",
       "      <td>41.55</td>\n",
       "      <td>2864</td>\n",
       "      <td>129.12</td>\n",
       "      <td>3</td>\n",
       "      <td>33</td>\n",
       "      <td>5</td>\n",
       "      <td>395</td>\n",
       "      <td>59</td>\n",
       "      <td>1934</td>\n",
       "      <td>52.298540</td>\n",
       "    </tr>\n",
       "    <tr>\n",
       "      <th>3</th>\n",
       "      <td>MJ Guptill (NZ)</td>\n",
       "      <td>2009-2022</td>\n",
       "      <td>122</td>\n",
       "      <td>118</td>\n",
       "      <td>7</td>\n",
       "      <td>3531</td>\n",
       "      <td>105</td>\n",
       "      <td>31.81</td>\n",
       "      <td>2602</td>\n",
       "      <td>135.70</td>\n",
       "      <td>2</td>\n",
       "      <td>20</td>\n",
       "      <td>3</td>\n",
       "      <td>309</td>\n",
       "      <td>173</td>\n",
       "      <td>2274</td>\n",
       "      <td>64.401020</td>\n",
       "    </tr>\n",
       "    <tr>\n",
       "      <th>4</th>\n",
       "      <td>PR Stirling (IRE)</td>\n",
       "      <td>2009-2024</td>\n",
       "      <td>137</td>\n",
       "      <td>136</td>\n",
       "      <td>11</td>\n",
       "      <td>3491</td>\n",
       "      <td>115*</td>\n",
       "      <td>27.92</td>\n",
       "      <td>2582</td>\n",
       "      <td>135.20</td>\n",
       "      <td>1</td>\n",
       "      <td>23</td>\n",
       "      <td>13</td>\n",
       "      <td>407</td>\n",
       "      <td>124</td>\n",
       "      <td>2372</td>\n",
       "      <td>67.946147</td>\n",
       "    </tr>\n",
       "  </tbody>\n",
       "</table>\n",
       "</div>"
      ],
      "text/plain": [
       "              Player       Span  Mat  Inns  NO  Runs    HS    Ave    BF  \\\n",
       "0      V Kohli (IND)  2010-2024  117   109  31  4037  122*  51.75  2922   \n",
       "1    RG Sharma (IND)  2007-2024  151   143  18  3974  121*  31.79  2839   \n",
       "2   Babar Azam (PAK)  2016-2024  109   103  14  3698   122  41.55  2864   \n",
       "3    MJ Guptill (NZ)  2009-2022  122   118   7  3531   105  31.81  2602   \n",
       "4  PR Stirling (IRE)  2009-2024  137   136  11  3491  115*  27.92  2582   \n",
       "\n",
       "       SR 100  50   0   4s   6s  Runs in Boundary  % Runs in Boundary  \n",
       "0  138.15   1  37   5  361  117              2146           53.158286  \n",
       "1  139.97   5  29  12  359  190              2576           64.821339  \n",
       "2  129.12   3  33   5  395   59              1934           52.298540  \n",
       "3  135.70   2  20   3  309  173              2274           64.401020  \n",
       "4  135.20   1  23  13  407  124              2372           67.946147  "
      ]
     },
     "execution_count": 2,
     "metadata": {},
     "output_type": "execute_result"
    }
   ],
   "source": [
    "batting_stats = pd.read_csv(r\"C:\\Users\\Rohan\\OneDrive\\Desktop\\Rohan\\T20 Int Matches\\Batting_Stats.csv\")\n",
    "batting_stats.head()"
   ]
  },
  {
   "cell_type": "code",
   "execution_count": 4,
   "id": "e4e3bc2c",
   "metadata": {},
   "outputs": [
    {
     "name": "stdout",
     "output_type": "stream",
     "text": [
      "\n",
      "Summary Statistics of Batting Stats Data:\n",
      "             Inns         Runs         Ave           BF          SR  \\\n",
      "count  150.000000   150.000000  150.000000   150.000000  150.000000   \n",
      "mean    66.606667  1605.580000   28.662333  1229.100000  130.893200   \n",
      "std     21.418457   614.019219    6.252672   448.860866   13.248173   \n",
      "min     31.000000   987.000000   17.390000   600.000000  101.150000   \n",
      "25%     52.000000  1175.250000   24.212500   913.500000  121.210000   \n",
      "50%     63.000000  1457.000000   27.995000  1118.000000  130.920000   \n",
      "75%     76.750000  1817.750000   31.805000  1380.500000  138.492500   \n",
      "max    143.000000  4037.000000   51.750000  2922.000000  171.550000   \n",
      "\n",
      "               50          4s          6s  Runs in Boundary  \\\n",
      "count  150.000000  150.000000  150.000000        150.000000   \n",
      "mean     9.233333  143.540000   62.340000        948.200000   \n",
      "std      5.733941   64.143467   31.028852        386.965045   \n",
      "min      2.000000   68.000000   14.000000        472.000000   \n",
      "25%      6.000000  103.000000   38.000000        676.000000   \n",
      "50%      8.000000  124.000000   57.500000        850.000000   \n",
      "75%     11.000000  160.250000   76.750000       1086.000000   \n",
      "max     37.000000  407.000000  190.000000       2576.000000   \n",
      "\n",
      "       % Runs in Boundary  \n",
      "count          150.000000  \n",
      "mean            58.918213  \n",
      "std              7.215939  \n",
      "min             42.542787  \n",
      "25%             53.492790  \n",
      "50%             58.987149  \n",
      "75%             63.581916  \n",
      "max             79.233871  \n"
     ]
    }
   ],
   "source": [
    "print(\"\\nSummary Statistics of Batting Stats Data:\")\n",
    "print(batting_stats.describe())"
   ]
  },
  {
   "cell_type": "code",
   "execution_count": 6,
   "id": "c25e13cf",
   "metadata": {},
   "outputs": [
    {
     "name": "stdout",
     "output_type": "stream",
     "text": [
      "\n",
      "Missing Values in Batting Stats Data:\n",
      "Player                0\n",
      "Span                  0\n",
      "Mat                   0\n",
      "Inns                  0\n",
      "NO                    0\n",
      "Runs                  0\n",
      "HS                    0\n",
      "Ave                   0\n",
      "BF                    0\n",
      "SR                    0\n",
      "100                   0\n",
      "50                    0\n",
      "0                     0\n",
      "4s                    0\n",
      "6s                    0\n",
      "Runs in Boundary      0\n",
      "% Runs in Boundary    0\n",
      "dtype: int64\n"
     ]
    }
   ],
   "source": [
    "print(\"\\nMissing Values in Batting Stats Data:\")\n",
    "print(batting_stats.isnull().sum())"
   ]
  },
  {
   "cell_type": "code",
   "execution_count": 7,
   "id": "9e84374e",
   "metadata": {},
   "outputs": [
    {
     "data": {
      "image/png": "[encoded data removed]",
      "text/plain": [
       "<Figure size 1000x600 with 1 Axes>"
      ]
     },
     "metadata": {},
     "output_type": "display_data"
    }
   ],
   "source": [
    "# Distribution of Runs\n",
    "plt.figure(figsize=(10, 6))\n",
    "sns.histplot(batting_stats['Runs'], bins=20, kde=True, color='blue')\n",
    "plt.title('Distribution of Runs')\n",
    "plt.xlabel('Runs')\n",
    "plt.ylabel('Frequency')\n",
    "plt.show()"
   ]
  },
  {
   "cell_type": "markdown",
   "id": "26eccae2",
   "metadata": {},
   "source": [
    "**TOP 5 PLAYERS WITH MOST STRIKE RATE IN T20I MATCH**"
   ]
  },
  {
   "cell_type": "code",
   "execution_count": 17,
   "id": "d6ca2009",
   "metadata": {},
   "outputs": [
    {
     "data": {
      "text/html": [
       "<div>\n",
       "<style scoped>\n",
       "    .dataframe tbody tr th:only-of-type {\n",
       "        vertical-align: middle;\n",
       "    }\n",
       "\n",
       "    .dataframe tbody tr th {\n",
       "        vertical-align: top;\n",
       "    }\n",
       "\n",
       "    .dataframe thead th {\n",
       "        text-align: right;\n",
       "    }\n",
       "</style>\n",
       "<table border=\"1\" class=\"dataframe\">\n",
       "  <thead>\n",
       "    <tr style=\"text-align: right;\">\n",
       "      <th></th>\n",
       "      <th>Player</th>\n",
       "      <th>Runs</th>\n",
       "      <th>SR</th>\n",
       "    </tr>\n",
       "  </thead>\n",
       "  <tbody>\n",
       "    <tr>\n",
       "      <th>21</th>\n",
       "      <td>SA Yadav (IND)</td>\n",
       "      <td>2141</td>\n",
       "      <td>171.55</td>\n",
       "    </tr>\n",
       "    <tr>\n",
       "      <th>11</th>\n",
       "      <td>GJ Maxwell (AUS)</td>\n",
       "      <td>2468</td>\n",
       "      <td>155.51</td>\n",
       "    </tr>\n",
       "    <tr>\n",
       "      <th>8</th>\n",
       "      <td>JC Buttler (ENG)</td>\n",
       "      <td>2927</td>\n",
       "      <td>144.61</td>\n",
       "    </tr>\n",
       "    <tr>\n",
       "      <th>17</th>\n",
       "      <td>DA Miller (SA/World)</td>\n",
       "      <td>2268</td>\n",
       "      <td>144.55</td>\n",
       "    </tr>\n",
       "    <tr>\n",
       "      <th>6</th>\n",
       "      <td>DA Warner (AUS)</td>\n",
       "      <td>3099</td>\n",
       "      <td>142.67</td>\n",
       "    </tr>\n",
       "  </tbody>\n",
       "</table>\n",
       "</div>"
      ],
      "text/plain": [
       "                  Player  Runs      SR\n",
       "21        SA Yadav (IND)  2141  171.55\n",
       "11      GJ Maxwell (AUS)  2468  155.51\n",
       "8       JC Buttler (ENG)  2927  144.61\n",
       "17  DA Miller (SA/World)  2268  144.55\n",
       "6        DA Warner (AUS)  3099  142.67"
      ]
     },
     "execution_count": 17,
     "metadata": {},
     "output_type": "execute_result"
    }
   ],
   "source": [
    "# Sort the DataFrame by 'SR' (Strike Rate) in descending order\n",
    "sorted_df = batting_stats[batting_stats['Runs']>2000].sort_values(by='SR', ascending=False)\n",
    "\n",
    "# Select the top 5 players\n",
    "top_5_players = sorted_df.head(5)\n",
    "\n",
    "# Display the top 5 players with highest strike rates\n",
    "top_5_players[['Player', 'Runs', 'SR']]"
   ]
  },
  {
   "cell_type": "markdown",
   "id": "f6ec4259",
   "metadata": {},
   "source": [
    "**TOP 5 PLAYERS WITH MORE THAN 2000 RUNS AND HIGHEST SR**"
   ]
  },
  {
   "cell_type": "code",
   "execution_count": 51,
   "id": "060897b1",
   "metadata": {},
   "outputs": [
    {
     "data": {
      "image/png": "[encoded data removed]",
      "text/plain": [
       "<Figure size 640x480 with 1 Axes>"
      ]
     },
     "metadata": {},
     "output_type": "display_data"
    }
   ],
   "source": [
    "# Plot a bar chart for the top 5 players\n",
    "plt.bar(top_5_players['Player'], top_5_players['SR'], color='skyblue')\n",
    "plt.xlabel('Player')\n",
    "plt.ylabel('Strike Rate')\n",
    "plt.title('Top 5 Players with Highest Strike Rates (Runs > 2000)')\n",
    "plt.xticks(rotation=45)\n",
    "plt.show()"
   ]
  },
  {
   "cell_type": "markdown",
   "id": "628dd3a1",
   "metadata": {},
   "source": [
    "**TOP 5 PLAYERS WITH MOST RUNS IN BOUNDARY (PERCENTAGE)**"
   ]
  },
  {
   "cell_type": "code",
   "execution_count": 34,
   "id": "a1f8bd07",
   "metadata": {},
   "outputs": [
    {
     "data": {
      "text/html": [
       "<div>\n",
       "<style scoped>\n",
       "    .dataframe tbody tr th:only-of-type {\n",
       "        vertical-align: middle;\n",
       "    }\n",
       "\n",
       "    .dataframe tbody tr th {\n",
       "        vertical-align: top;\n",
       "    }\n",
       "\n",
       "    .dataframe thead th {\n",
       "        text-align: right;\n",
       "    }\n",
       "</style>\n",
       "<table border=\"1\" class=\"dataframe\">\n",
       "  <thead>\n",
       "    <tr style=\"text-align: right;\">\n",
       "      <th></th>\n",
       "      <th>Player</th>\n",
       "      <th>Runs</th>\n",
       "      <th>Percentage Runs in Boundary</th>\n",
       "    </tr>\n",
       "  </thead>\n",
       "  <tbody>\n",
       "    <tr>\n",
       "      <th>0</th>\n",
       "      <td>V Kohli (IND)</td>\n",
       "      <td>4037</td>\n",
       "      <td>53.158286</td>\n",
       "    </tr>\n",
       "    <tr>\n",
       "      <th>1</th>\n",
       "      <td>RG Sharma (IND)</td>\n",
       "      <td>3974</td>\n",
       "      <td>64.821339</td>\n",
       "    </tr>\n",
       "    <tr>\n",
       "      <th>2</th>\n",
       "      <td>Babar Azam (PAK)</td>\n",
       "      <td>3698</td>\n",
       "      <td>52.298540</td>\n",
       "    </tr>\n",
       "    <tr>\n",
       "      <th>3</th>\n",
       "      <td>MJ Guptill (NZ)</td>\n",
       "      <td>3531</td>\n",
       "      <td>64.401020</td>\n",
       "    </tr>\n",
       "    <tr>\n",
       "      <th>4</th>\n",
       "      <td>PR Stirling (IRE)</td>\n",
       "      <td>3491</td>\n",
       "      <td>67.946147</td>\n",
       "    </tr>\n",
       "  </tbody>\n",
       "</table>\n",
       "</div>"
      ],
      "text/plain": [
       "              Player  Runs  Percentage Runs in Boundary\n",
       "0      V Kohli (IND)  4037                    53.158286\n",
       "1    RG Sharma (IND)  3974                    64.821339\n",
       "2   Babar Azam (PAK)  3698                    52.298540\n",
       "3    MJ Guptill (NZ)  3531                    64.401020\n",
       "4  PR Stirling (IRE)  3491                    67.946147"
      ]
     },
     "execution_count": 34,
     "metadata": {},
     "output_type": "execute_result"
    }
   ],
   "source": [
    "# Sorting the DataFrame by 'Runs' in descending order to get the top 5 highest runs scorers\n",
    "top_5_scorers = batting_stats.sort_values(by='Runs', ascending=False).head(5)\n",
    "\n",
    "# Calculating the percentage of runs scored in boundary for each player\n",
    "top_5_scorers['Percentage Runs in Boundary'] = (top_5_scorers['Runs in Boundary'] / top_5_scorers['Runs']) * 100\n",
    "\n",
    "# Displaying the top 5 highest runs scorers and their corresponding percentage of runs in boundary\n",
    "top_5_scorers[['Player', 'Runs', 'Percentage Runs in Boundary']]"
   ]
  },
  {
   "cell_type": "markdown",
   "id": "859a2d6a",
   "metadata": {},
   "source": [
    "**TOP 5 HIGHEST RUN SCORERS IN T20I MATCHES BASED ON THE RUNS SCORED IN BOUNDARIES**"
   ]
  },
  {
   "cell_type": "code",
   "execution_count": 79,
   "id": "e6f72496",
   "metadata": {},
   "outputs": [
    {
     "data": {
      "image/png": "[encoded data removed]",
      "text/plain": [
       "<Figure size 640x480 with 1 Axes>"
      ]
     },
     "metadata": {},
     "output_type": "display_data"
    }
   ],
   "source": [
    "# Sorting the players and their corresponding percentage of runs in boundary in descending order\n",
    "sorted_players, sorted_runs_in_boundary = zip(*sorted(zip(players, runs_in_boundary), key=lambda x: x[1], reverse=False))\n",
    "\n",
    "# Plot a horizontal bar chart for the sorted data\n",
    "bars = plt.barh(sorted_players, sorted_runs_in_boundary, color='skyblue')\n",
    "plt.xlabel('Percentage of Runs in Boundary')\n",
    "plt.ylabel('Player')\n",
    "plt.title('Top 5 Highest Runs Scorers and Percentage of Runs in Boundary')\n",
    "\n",
    "# Add exact percentage values on top of each bar\n",
    "for bar, percentage in zip(bars, sorted_runs_in_boundary):\n",
    "    plt.text(bar.get_width(), bar.get_y() + bar.get_height()/2, f'{percentage:.2f}%', \n",
    "             va='center', ha='right', fontsize=10, color='black')\n",
    "plt.show()"
   ]
  },
  {
   "cell_type": "markdown",
   "id": "7fd2f867",
   "metadata": {},
   "source": [
    "**SCATTER PLOT B/W RUNS AND BATTING AVERAGE**"
   ]
  },
  {
   "cell_type": "code",
   "execution_count": 71,
   "id": "708ca42d",
   "metadata": {},
   "outputs": [
    {
     "data": {
      "image/png": "[encoded data removed]",
      "text/plain": [
       "<Figure size 800x600 with 1 Axes>"
      ]
     },
     "metadata": {},
     "output_type": "display_data"
    }
   ],
   "source": [
    "# Scatter Plot for Runs vs. Average\n",
    "plt.figure(figsize=(8, 6))\n",
    "plt.scatter(batting_stats['Runs'], batting_stats['Ave'], color='orange')\n",
    "plt.xlabel('Runs')\n",
    "plt.ylabel('Average')\n",
    "plt.title('Scatter Plot of Runs vs. Batting Average')\n",
    "plt.show()"
   ]
  },
  {
   "cell_type": "markdown",
   "id": "9dc76086",
   "metadata": {},
   "source": [
    "**TOP 5 PLAYERS OF EACH COUNTRY WITH HIGHEST RUNS**"
   ]
  },
  {
   "cell_type": "code",
   "execution_count": 75,
   "id": "73fd934f",
   "metadata": {},
   "outputs": [
    {
     "data": {
      "text/html": [
       "<div>\n",
       "<style scoped>\n",
       "    .dataframe tbody tr th:only-of-type {\n",
       "        vertical-align: middle;\n",
       "    }\n",
       "\n",
       "    .dataframe tbody tr th {\n",
       "        vertical-align: top;\n",
       "    }\n",
       "\n",
       "    .dataframe thead th {\n",
       "        text-align: right;\n",
       "    }\n",
       "</style>\n",
       "<table border=\"1\" class=\"dataframe\">\n",
       "  <thead>\n",
       "    <tr style=\"text-align: right;\">\n",
       "      <th></th>\n",
       "      <th>Player</th>\n",
       "      <th>Runs</th>\n",
       "      <th>Country</th>\n",
       "    </tr>\n",
       "  </thead>\n",
       "  <tbody>\n",
       "    <tr>\n",
       "      <th>0</th>\n",
       "      <td>Mohammad Nabi (AFG)</td>\n",
       "      <td>2109</td>\n",
       "      <td>AFG</td>\n",
       "    </tr>\n",
       "    <tr>\n",
       "      <th>1</th>\n",
       "      <td>Mohammad Shahzad (AFG)</td>\n",
       "      <td>2048</td>\n",
       "      <td>AFG</td>\n",
       "    </tr>\n",
       "    <tr>\n",
       "      <th>2</th>\n",
       "      <td>Najibullah Zadran (AFG)</td>\n",
       "      <td>1808</td>\n",
       "      <td>AFG</td>\n",
       "    </tr>\n",
       "    <tr>\n",
       "      <th>3</th>\n",
       "      <td>Asghar Afghan (AFG)</td>\n",
       "      <td>1382</td>\n",
       "      <td>AFG</td>\n",
       "    </tr>\n",
       "    <tr>\n",
       "      <th>4</th>\n",
       "      <td>Rahmanullah Gurbaz (AFG)</td>\n",
       "      <td>1376</td>\n",
       "      <td>AFG</td>\n",
       "    </tr>\n",
       "    <tr>\n",
       "      <th>...</th>\n",
       "      <td>...</td>\n",
       "      <td>...</td>\n",
       "      <td>...</td>\n",
       "    </tr>\n",
       "    <tr>\n",
       "      <th>111</th>\n",
       "      <td>Sikandar Raza (ZIM)</td>\n",
       "      <td>1854</td>\n",
       "      <td>ZIM</td>\n",
       "    </tr>\n",
       "    <tr>\n",
       "      <th>112</th>\n",
       "      <td>SC Williams (ZIM)</td>\n",
       "      <td>1691</td>\n",
       "      <td>ZIM</td>\n",
       "    </tr>\n",
       "    <tr>\n",
       "      <th>113</th>\n",
       "      <td>H Masakadza (ZIM)</td>\n",
       "      <td>1662</td>\n",
       "      <td>ZIM</td>\n",
       "    </tr>\n",
       "    <tr>\n",
       "      <th>114</th>\n",
       "      <td>CR Ervine (ZIM)</td>\n",
       "      <td>1429</td>\n",
       "      <td>ZIM</td>\n",
       "    </tr>\n",
       "    <tr>\n",
       "      <th>115</th>\n",
       "      <td>RP Burl (ZIM)</td>\n",
       "      <td>1156</td>\n",
       "      <td>ZIM</td>\n",
       "    </tr>\n",
       "  </tbody>\n",
       "</table>\n",
       "<p>116 rows × 3 columns</p>\n",
       "</div>"
      ],
      "text/plain": [
       "                       Player  Runs Country\n",
       "0         Mohammad Nabi (AFG)  2109     AFG\n",
       "1      Mohammad Shahzad (AFG)  2048     AFG\n",
       "2     Najibullah Zadran (AFG)  1808     AFG\n",
       "3         Asghar Afghan (AFG)  1382     AFG\n",
       "4    Rahmanullah Gurbaz (AFG)  1376     AFG\n",
       "..                        ...   ...     ...\n",
       "111       Sikandar Raza (ZIM)  1854     ZIM\n",
       "112         SC Williams (ZIM)  1691     ZIM\n",
       "113         H Masakadza (ZIM)  1662     ZIM\n",
       "114           CR Ervine (ZIM)  1429     ZIM\n",
       "115             RP Burl (ZIM)  1156     ZIM\n",
       "\n",
       "[116 rows x 3 columns]"
      ]
     },
     "execution_count": 75,
     "metadata": {},
     "output_type": "execute_result"
    }
   ],
   "source": [
    "# Extract country from the 'Player' column\n",
    "batting_stats['Country'] = batting_stats['Player'].str.extract(r'\\((.*?)\\)')\n",
    "\n",
    "# Grouping the data by country and sorting the runs within each group\n",
    "top_batsmen_by_country = batting_stats.groupby('Country').apply(lambda x: x.nlargest(5, 'Runs')).reset_index(drop=True)\n",
    "top_batsmen_by_country[['Player', 'Runs', 'Country']]"
   ]
  },
  {
   "cell_type": "markdown",
   "id": "c136e164",
   "metadata": {},
   "source": [
    " **TOP 5 INDIAN BATSMEN WITH MOST RUNS IN T20I MATCHES**"
   ]
  },
  {
   "cell_type": "code",
   "execution_count": 76,
   "id": "6b24d927",
   "metadata": {},
   "outputs": [
    {
     "data": {
      "text/html": [
       "<div>\n",
       "<style scoped>\n",
       "    .dataframe tbody tr th:only-of-type {\n",
       "        vertical-align: middle;\n",
       "    }\n",
       "\n",
       "    .dataframe tbody tr th {\n",
       "        vertical-align: top;\n",
       "    }\n",
       "\n",
       "    .dataframe thead th {\n",
       "        text-align: right;\n",
       "    }\n",
       "</style>\n",
       "<table border=\"1\" class=\"dataframe\">\n",
       "  <thead>\n",
       "    <tr style=\"text-align: right;\">\n",
       "      <th></th>\n",
       "      <th>Player</th>\n",
       "      <th>Runs</th>\n",
       "      <th>Country</th>\n",
       "    </tr>\n",
       "  </thead>\n",
       "  <tbody>\n",
       "    <tr>\n",
       "      <th>0</th>\n",
       "      <td>V Kohli (IND)</td>\n",
       "      <td>4037</td>\n",
       "      <td>IND</td>\n",
       "    </tr>\n",
       "    <tr>\n",
       "      <th>1</th>\n",
       "      <td>RG Sharma (IND)</td>\n",
       "      <td>3974</td>\n",
       "      <td>IND</td>\n",
       "    </tr>\n",
       "    <tr>\n",
       "      <th>18</th>\n",
       "      <td>KL Rahul (IND)</td>\n",
       "      <td>2265</td>\n",
       "      <td>IND</td>\n",
       "    </tr>\n",
       "    <tr>\n",
       "      <th>21</th>\n",
       "      <td>SA Yadav (IND)</td>\n",
       "      <td>2141</td>\n",
       "      <td>IND</td>\n",
       "    </tr>\n",
       "    <tr>\n",
       "      <th>41</th>\n",
       "      <td>S Dhawan (IND)</td>\n",
       "      <td>1759</td>\n",
       "      <td>IND</td>\n",
       "    </tr>\n",
       "  </tbody>\n",
       "</table>\n",
       "</div>"
      ],
      "text/plain": [
       "             Player  Runs Country\n",
       "0     V Kohli (IND)  4037     IND\n",
       "1   RG Sharma (IND)  3974     IND\n",
       "18   KL Rahul (IND)  2265     IND\n",
       "21   SA Yadav (IND)  2141     IND\n",
       "41   S Dhawan (IND)  1759     IND"
      ]
     },
     "execution_count": 76,
     "metadata": {},
     "output_type": "execute_result"
    }
   ],
   "source": [
    "# Filtering the DataFrame for rows where the country is \"IND\" (India)\n",
    "indian_batsmen = batting_stats[batting_stats['Country'] == 'IND']\n",
    "\n",
    "# Sorting the runs in descending order to find the top 5 batsmen for India\n",
    "top_5_indian_batsmen = indian_batsmen.nlargest(5, 'Runs')\n",
    "top_5_indian_batsmen[['Player', 'Runs', 'Country']]"
   ]
  },
  {
   "cell_type": "markdown",
   "id": "53e6eae6",
   "metadata": {},
   "source": [
    "**MOST CENTURIES SCORED BY A COUNTRY IN T20 INTERNATION MATCHES**"
   ]
  },
  {
   "cell_type": "code",
   "execution_count": 86,
   "id": "fb8f4997",
   "metadata": {},
   "outputs": [
    {
     "name": "stdout",
     "output_type": "stream",
     "text": [
      "Country with the most centuries: IND\n",
      "Number of centuries: 13.0\n"
     ]
    }
   ],
   "source": [
    "# Converting the '100' column to numeric type\n",
    "batting_stats['100'] = pd.to_numeric(batting_stats['100'], errors='coerce')\n",
    "\n",
    "# Grouping the dataset by 'Country' and sum the centuries scored by each player\n",
    "centuries_by_country = batting_stats.groupby('Country')['100'].sum()\n",
    "\n",
    "# Find the country with the maximum centuries scored\n",
    "most_centuries_country = centuries_by_country.idxmax()\n",
    "most_centuries = centuries_by_country.max()\n",
    "\n",
    "# Display the country with the most centuries and the number of centuries\n",
    "print(f\"Country with the most centuries: {most_centuries_country}\")\n",
    "print(f\"Number of centuries: {most_centuries}\")"
   ]
  },
  {
   "cell_type": "markdown",
   "id": "30e109e2",
   "metadata": {},
   "source": [
    "**BREAKDOWN OF MOST CENTURIES IN T20I MATCHES BY INDIAN PLAYERS**"
   ]
  },
  {
   "cell_type": "code",
   "execution_count": 95,
   "id": "389a37d6",
   "metadata": {},
   "outputs": [
    {
     "data": {
      "text/html": [
       "<div>\n",
       "<style scoped>\n",
       "    .dataframe tbody tr th:only-of-type {\n",
       "        vertical-align: middle;\n",
       "    }\n",
       "\n",
       "    .dataframe tbody tr th {\n",
       "        vertical-align: top;\n",
       "    }\n",
       "\n",
       "    .dataframe thead th {\n",
       "        text-align: right;\n",
       "    }\n",
       "</style>\n",
       "<table border=\"1\" class=\"dataframe\">\n",
       "  <thead>\n",
       "    <tr style=\"text-align: right;\">\n",
       "      <th></th>\n",
       "      <th>Player</th>\n",
       "      <th>100</th>\n",
       "    </tr>\n",
       "  </thead>\n",
       "  <tbody>\n",
       "    <tr>\n",
       "      <th>3</th>\n",
       "      <td>RG Sharma (IND)</td>\n",
       "      <td>5.0</td>\n",
       "    </tr>\n",
       "    <tr>\n",
       "      <th>5</th>\n",
       "      <td>SA Yadav (IND)</td>\n",
       "      <td>4.0</td>\n",
       "    </tr>\n",
       "    <tr>\n",
       "      <th>1</th>\n",
       "      <td>KL Rahul (IND)</td>\n",
       "      <td>2.0</td>\n",
       "    </tr>\n",
       "    <tr>\n",
       "      <th>6</th>\n",
       "      <td>SK Raina (IND)</td>\n",
       "      <td>1.0</td>\n",
       "    </tr>\n",
       "    <tr>\n",
       "      <th>8</th>\n",
       "      <td>V Kohli (IND)</td>\n",
       "      <td>1.0</td>\n",
       "    </tr>\n",
       "    <tr>\n",
       "      <th>0</th>\n",
       "      <td>HH Pandya (IND)</td>\n",
       "      <td>0.0</td>\n",
       "    </tr>\n",
       "    <tr>\n",
       "      <th>2</th>\n",
       "      <td>MS Dhoni (IND)</td>\n",
       "      <td>0.0</td>\n",
       "    </tr>\n",
       "    <tr>\n",
       "      <th>4</th>\n",
       "      <td>S Dhawan (IND)</td>\n",
       "      <td>0.0</td>\n",
       "    </tr>\n",
       "    <tr>\n",
       "      <th>7</th>\n",
       "      <td>SS Iyer (IND)</td>\n",
       "      <td>0.0</td>\n",
       "    </tr>\n",
       "    <tr>\n",
       "      <th>9</th>\n",
       "      <td>Yuvraj Singh (IND)</td>\n",
       "      <td>0.0</td>\n",
       "    </tr>\n",
       "  </tbody>\n",
       "</table>\n",
       "</div>"
      ],
      "text/plain": [
       "               Player  100\n",
       "3     RG Sharma (IND)  5.0\n",
       "5      SA Yadav (IND)  4.0\n",
       "1      KL Rahul (IND)  2.0\n",
       "6      SK Raina (IND)  1.0\n",
       "8       V Kohli (IND)  1.0\n",
       "0     HH Pandya (IND)  0.0\n",
       "2      MS Dhoni (IND)  0.0\n",
       "4      S Dhawan (IND)  0.0\n",
       "7       SS Iyer (IND)  0.0\n",
       "9  Yuvraj Singh (IND)  0.0"
      ]
     },
     "execution_count": 95,
     "metadata": {},
     "output_type": "execute_result"
    }
   ],
   "source": [
    "# Filter the dataset for players from India\n",
    "indian_players = batting_stats[batting_stats['Country'] == 'IND']\n",
    "\n",
    "# Group the dataset by player and count the number of centuries scored by each player\n",
    "centuries_by_player = indian_players.groupby('Player')['100'].sum().reset_index()\n",
    "centuries_by_player.sort_values(by='100',ascending=False)"
   ]
  },
  {
   "cell_type": "markdown",
   "id": "84032368",
   "metadata": {},
   "source": [
    "**MOST NUMBER OF 50s BY BATTERS ACROSS T20I FORMAT**"
   ]
  },
  {
   "cell_type": "code",
   "execution_count": 120,
   "id": "58cc0611",
   "metadata": {},
   "outputs": [
    {
     "data": {
      "text/html": [
       "<div>\n",
       "<style scoped>\n",
       "    .dataframe tbody tr th:only-of-type {\n",
       "        vertical-align: middle;\n",
       "    }\n",
       "\n",
       "    .dataframe tbody tr th {\n",
       "        vertical-align: top;\n",
       "    }\n",
       "\n",
       "    .dataframe thead th {\n",
       "        text-align: right;\n",
       "    }\n",
       "</style>\n",
       "<table border=\"1\" class=\"dataframe\">\n",
       "  <thead>\n",
       "    <tr style=\"text-align: right;\">\n",
       "      <th></th>\n",
       "      <th>Player</th>\n",
       "      <th>Country</th>\n",
       "      <th>50</th>\n",
       "    </tr>\n",
       "  </thead>\n",
       "  <tbody>\n",
       "    <tr>\n",
       "      <th>0</th>\n",
       "      <td>V Kohli (IND)</td>\n",
       "      <td>IND</td>\n",
       "      <td>37</td>\n",
       "    </tr>\n",
       "    <tr>\n",
       "      <th>2</th>\n",
       "      <td>Babar Azam (PAK)</td>\n",
       "      <td>PAK</td>\n",
       "      <td>33</td>\n",
       "    </tr>\n",
       "    <tr>\n",
       "      <th>6</th>\n",
       "      <td>DA Warner (AUS)</td>\n",
       "      <td>AUS</td>\n",
       "      <td>26</td>\n",
       "    </tr>\n",
       "    <tr>\n",
       "      <th>4</th>\n",
       "      <td>PR Stirling (IRE)</td>\n",
       "      <td>IRE</td>\n",
       "      <td>23</td>\n",
       "    </tr>\n",
       "    <tr>\n",
       "      <th>8</th>\n",
       "      <td>JC Buttler (ENG)</td>\n",
       "      <td>ENG</td>\n",
       "      <td>22</td>\n",
       "    </tr>\n",
       "    <tr>\n",
       "      <th>3</th>\n",
       "      <td>MJ Guptill (NZ)</td>\n",
       "      <td>NZ</td>\n",
       "      <td>20</td>\n",
       "    </tr>\n",
       "    <tr>\n",
       "      <th>25</th>\n",
       "      <td>S Ssesazi (UGA)</td>\n",
       "      <td>UGA</td>\n",
       "      <td>16</td>\n",
       "    </tr>\n",
       "    <tr>\n",
       "      <th>15</th>\n",
       "      <td>Virandeep Singh (MAS)</td>\n",
       "      <td>MAS</td>\n",
       "      <td>16</td>\n",
       "    </tr>\n",
       "    <tr>\n",
       "      <th>32</th>\n",
       "      <td>CH Gayle (WI)</td>\n",
       "      <td>WI</td>\n",
       "      <td>14</td>\n",
       "    </tr>\n",
       "    <tr>\n",
       "      <th>37</th>\n",
       "      <td>Muhammad Waseem (UAE)</td>\n",
       "      <td>UAE</td>\n",
       "      <td>14</td>\n",
       "    </tr>\n",
       "  </tbody>\n",
       "</table>\n",
       "</div>"
      ],
      "text/plain": [
       "                   Player Country  50\n",
       "0           V Kohli (IND)     IND  37\n",
       "2        Babar Azam (PAK)     PAK  33\n",
       "6         DA Warner (AUS)     AUS  26\n",
       "4       PR Stirling (IRE)     IRE  23\n",
       "8        JC Buttler (ENG)     ENG  22\n",
       "3         MJ Guptill (NZ)      NZ  20\n",
       "25        S Ssesazi (UGA)     UGA  16\n",
       "15  Virandeep Singh (MAS)     MAS  16\n",
       "32          CH Gayle (WI)      WI  14\n",
       "37  Muhammad Waseem (UAE)     UAE  14"
      ]
     },
     "execution_count": 120,
     "metadata": {},
     "output_type": "execute_result"
    }
   ],
   "source": [
    "# Group the dataset by country and find the player with the maximum number of 50s in each group\n",
    "batsmen_with_most_50s = batting_stats.loc[batting_stats.groupby('Country')['50'].idxmax()]\n",
    "batsmen_with_most_50s[['Player', 'Country', '50']].sort_values(by='50',ascending=False).head(10)"
   ]
  },
  {
   "cell_type": "markdown",
   "id": "b02abb50",
   "metadata": {},
   "source": [
    "**DISPLAYING CAREER SPAN OF THE BATSMEN**"
   ]
  },
  {
   "cell_type": "code",
   "execution_count": 131,
   "id": "2e472e0e",
   "metadata": {},
   "outputs": [
    {
     "name": "stdout",
     "output_type": "stream",
     "text": [
      "Enter the player's name: RG Sharma (IND)\n",
      "Player: RG Sharma (IND)\n",
      "Career Span: 2007-2024\n",
      "Matches Played: 151\n",
      "Total Runs: 3974\n",
      "Highest Score: 121*\n",
      "Strike Rate: 139.97\n",
      "Batting Average: 31.79\n"
     ]
    }
   ],
   "source": [
    "def display_career_stats(player_name):\n",
    "    # Check if the player exists in the dataset\n",
    "    if player_name in batting_stats['Player'].values:\n",
    "        # Retrieve player's data\n",
    "        player_data = batting_stats[batting_stats['Player'] == player_name].iloc[0]\n",
    "\n",
    "        # Print career statistics\n",
    "        print(f\"Player: {player_data['Player']}\")\n",
    "        print(f\"Career Span: {player_data['Span']}\")\n",
    "        print(f\"Matches Played: {player_data['Mat']}\")\n",
    "        print(f\"Total Runs: {player_data['Runs']}\")\n",
    "        print(f\"Highest Score: {player_data['HS']}\")\n",
    "        print(f\"Strike Rate: {player_data['SR']}\")\n",
    "        print(f\"Batting Average: {player_data['Ave']}\")\n",
    "    else:\n",
    "        print(\"Player not found in the dataset\")\n",
    "\n",
    "# Take input from the user for player's name\n",
    "player_name = input(\"Enter the player's name: \")\n",
    "\n",
    "# Display career statistics for the selected palayer\n",
    "display_career_stats(player_name)"
   ]
  },
  {
   "cell_type": "code",
   "execution_count": null,
   "id": "f3a5c1fb",
   "metadata": {},
   "outputs": [],
   "source": []
  }
 ],
 "metadata": {
  "kernelspec": {
   "display_name": "Python 3 (ipykernel)",
   "language": "python",
   "name": "python3"
  },
  "language_info": {
   "codemirror_mode": {
    "name": "ipython",
    "version": 3
   },
   "file_extension": ".py",
   "mimetype": "text/x-python",
   "name": "python",
   "nbconvert_exporter": "python",
   "pygments_lexer": "ipython3",
   "version": "3.11.4"
  }
 },
 "nbformat": 4,
 "nbformat_minor": 5
}
